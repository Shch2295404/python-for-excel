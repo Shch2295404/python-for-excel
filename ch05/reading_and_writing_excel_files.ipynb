{
 "cells": [
  {
   "cell_type": "markdown",
   "metadata": {},
   "source": [
    "# Reading and Writing Excel Files"
   ]
  },
  {
   "cell_type": "markdown",
   "metadata": {},
   "source": [
    "# Using pandas with Excel Files"
   ]
  },
  {
   "cell_type": "markdown",
   "metadata": {},
   "source": [
    "## Case Study: Excel Reporting"
   ]
  },
  {
   "cell_type": "code",
   "execution_count": null,
   "metadata": {},
   "outputs": [],
   "source": [
    "import pandas as pd\n",
    "df = pd.read_excel('sales_data/new/January.xlsx')\n",
    "df.info()"
   ]
  },
  {
   "cell_type": "markdown",
   "metadata": {},
   "source": [
    "## Reading Excel Files with pandas"
   ]
  },
  {
   "cell_type": "code",
   "execution_count": null,
   "metadata": {},
   "outputs": [],
   "source": [
    "df1 = pd.read_excel('xl/stores.xlsx', sheet_name='2019', skiprows=1,\n",
    "                    usecols=['Store', 'Employees'],\n",
    "                    index_col='Store', nrows=2)\n",
    "df1"
   ]
  },
  {
   "cell_type": "code",
   "execution_count": null,
   "metadata": {},
   "outputs": [],
   "source": [
    "sheets = pd.read_excel('xl/stores.xlsx', sheet_name=['2019', '2020'],\n",
    "                       skiprows=1, usecols='B:C')\n",
    "sheets['2019'].head(2)"
   ]
  },
  {
   "cell_type": "code",
   "execution_count": null,
   "metadata": {},
   "outputs": [],
   "source": [
    "df1 = pd.read_excel('xl/stores.xlsx', sheet_name=0,\n",
    "                    skiprows=2, usecols='B:C,F', skipfooter=3,\n",
    "                    header=None,\n",
    "                    names=['Branch', 'Employee_Count', 'Is_Flagship'])\n",
    "df1"
   ]
  },
  {
   "cell_type": "code",
   "execution_count": null,
   "metadata": {},
   "outputs": [],
   "source": [
    "df1 = pd.read_excel('xl/stores.xlsx', sheet_name='2019',\n",
    "                    skiprows=1, usecols='B,C,F', skipfooter=2,\n",
    "                    na_values='MISSING', keep_default_na=False)\n",
    "df1"
   ]
  },
  {
   "cell_type": "code",
   "execution_count": null,
   "metadata": {},
   "outputs": [],
   "source": [
    "with pd.ExcelFile('xl/stores.xls') as f:\n",
    "    df1 = pd.read_excel(f, '2019', skiprows=1, usecols='B:F', nrows=2)\n",
    "    df2 = pd.read_excel(f, '2020', skiprows=1, usecols='B:F', nrows=2)\n",
    "\n",
    "df1"
   ]
  },
  {
   "cell_type": "code",
   "execution_count": null,
   "metadata": {},
   "outputs": [],
   "source": [
    "stores = pd.ExcelFile('xl/stores.xlsx')\n",
    "stores.sheet_names"
   ]
  },
  {
   "cell_type": "code",
   "execution_count": null,
   "metadata": {},
   "outputs": [],
   "source": [
    "url = ('https://github.com/fzumstein/python-for-excel/'\n",
    "      'blob/master/ch05/xl/stores.xlsx?raw=true')\n",
    "pd.read_excel(url, skiprows=1, usecols='B:E', nrows=2)"
   ]
  },
  {
   "cell_type": "markdown",
   "metadata": {},
   "source": [
    "## Writing Excel Files with pandas"
   ]
  },
  {
   "cell_type": "code",
   "execution_count": null,
   "metadata": {},
   "outputs": [],
   "source": [
    "import numpy as np\n",
    "import datetime as dt\n",
    "\n",
    "data=[[dt.datetime(2020,1,1, 10, 13), 2.222, 1, True],\n",
    "      [dt.datetime(2020,1,2), np.nan, 2, False],\n",
    "      [dt.datetime(2020,1,2), np.inf, 3, True]]\n",
    "df = pd.DataFrame(data=data,\n",
    "                  columns=['A', 'B', 'C', 'D'])\n",
    "df.index.name='index'\n",
    "df"
   ]
  },
  {
   "cell_type": "code",
   "execution_count": null,
   "metadata": {},
   "outputs": [],
   "source": [
    "df.to_excel('written_with_pandas.xlsx', sheet_name='Output',\n",
    "            startrow=1, startcol=1, index=True, header=True,\n",
    "            na_rep='<NA>', inf_rep='<INF>')"
   ]
  },
  {
   "cell_type": "code",
   "execution_count": null,
   "metadata": {},
   "outputs": [],
   "source": [
    "with pd.ExcelWriter('written_with_pandas2.xlsx') as writer:\n",
    "    df.to_excel(writer, sheet_name='Sheet1', startrow=1, startcol=1)\n",
    "    df.to_excel(writer, sheet_name='Sheet1', startrow=10, startcol=1)\n",
    "    df.to_excel(writer, sheet_name='Sheet2')"
   ]
  },
  {
   "cell_type": "markdown",
   "metadata": {},
   "source": [
    "# Reader and Writer Packages\n",
    "## OpenPyXL\n",
    "### Reading with OpenPyXL"
   ]
  },
  {
   "cell_type": "code",
   "execution_count": null,
   "metadata": {},
   "outputs": [],
   "source": [
    "import openpyxl\n",
    "import excel"
   ]
  },
  {
   "cell_type": "code",
   "execution_count": null,
   "metadata": {},
   "outputs": [],
   "source": [
    "# Open the workbook to read cell values\n",
    "# The file is automatically closed again after loading the data\n",
    "book = openpyxl.load_workbook('xl/stores.xlsx', data_only=True)"
   ]
  },
  {
   "cell_type": "code",
   "execution_count": null,
   "metadata": {},
   "outputs": [],
   "source": [
    "# Get a worksheet object by name or index (0-based)\n",
    "sheet = book['2019']\n",
    "sheet = book.worksheets[0]"
   ]
  },
  {
   "cell_type": "code",
   "execution_count": null,
   "metadata": {},
   "outputs": [],
   "source": [
    "# Get a list with all sheet names\n",
    "book.sheetnames"
   ]
  },
  {
   "cell_type": "code",
   "execution_count": null,
   "metadata": {},
   "outputs": [],
   "source": [
    "# Loop through the sheet objects\n",
    "# Instead of 'name', openpyxl uses 'title'\n",
    "for i in book.worksheets:\n",
    "    print(i.title)"
   ]
  },
  {
   "cell_type": "code",
   "execution_count": null,
   "metadata": {},
   "outputs": [],
   "source": [
    "# Getting the dimensions,\n",
    "# i.e. the used range of the sheet\n",
    "sheet.max_row, sheet.max_column"
   ]
  },
  {
   "cell_type": "code",
   "execution_count": null,
   "metadata": {},
   "outputs": [],
   "source": [
    "# Read the value of a single cell\n",
    "# using 'A1' notation and using cell indices (1-based)\n",
    "sheet['B6'].value\n",
    "sheet.cell(row=6, column=2).value"
   ]
  },
  {
   "cell_type": "code",
   "execution_count": null,
   "metadata": {},
   "outputs": [],
   "source": [
    "# Read in a range of cell values by using our excel module\n",
    "data = excel.read(book['2019'], (2, 2), (8, 6))\n",
    "data[:2]"
   ]
  },
  {
   "cell_type": "markdown",
   "metadata": {},
   "source": [
    "### Writing with OpenPyXL"
   ]
  },
  {
   "cell_type": "code",
   "execution_count": null,
   "metadata": {},
   "outputs": [],
   "source": [
    "import openpyxl\n",
    "from openpyxl.drawing.image import Image\n",
    "from openpyxl.styles import Font, colors\n",
    "from openpyxl.chart import BarChart, Reference\n",
    "import excel\n",
    "\n",
    "# Instantiate a workbook\n",
    "book = openpyxl.Workbook()\n",
    "\n",
    "# Get the first sheet and give it name\n",
    "sheet = book.active\n",
    "sheet.title = 'Sheet1'\n",
    "\n",
    "# Writing individual cells using A1 notation\n",
    "# and cell indices (1-based)\n",
    "sheet['A1'].value = 'Hello 1'\n",
    "sheet.cell(row=2, column=1, value='Hello 2')\n",
    "\n",
    "# Font formatting\n",
    "font_format = Font(color='FF0000', bold=True)\n",
    "sheet['A3'].value = 'Hello 3'\n",
    "sheet['A3'].font = font_format\n",
    "\n",
    "# Number formatting\n",
    "sheet['A4'].value = 3.3333\n",
    "sheet['A4'].number_format = '0.00'\n",
    "\n",
    "# Date formatting\n",
    "sheet['A5'].value = dt.date(2016, 10, 13)\n",
    "sheet['A5'].number_format = 'MM/DD/YY'\n",
    "\n",
    "# Formula\n",
    "sheet['A6'].value = '=A4 * 2'\n",
    "\n",
    "# Image\n",
    "sheet.add_image(Image('python.png'), 'C1')\n",
    "\n",
    "# 2-dimensional list\n",
    "data = [[None, 'Last Year', 'This Year'],\n",
    "        ['North', 2, 3],\n",
    "        ['South', 5, 6]]\n",
    "excel.write(sheet, data, 'A10')\n",
    "\n",
    "# Chart\n",
    "chart = BarChart()\n",
    "chart.type = 'col'\n",
    "chart.title = 'Sales Per Region'\n",
    "chart.x_axis.title = 'Regions'\n",
    "chart.y_axis.title = 'Sales'\n",
    "data = Reference(sheet, min_col=2, min_row=10,\n",
    "                 max_row=12, max_col=3)\n",
    "categories = Reference(sheet, min_row=11, min_col=1,\n",
    "                       max_row=12, max_col=1)\n",
    "chart.add_data(data, titles_from_data=True)\n",
    "chart.set_categories(categories)\n",
    "sheet.add_chart(chart, \"A15\")\n",
    "\n",
    "# Saving the workbook creates the physical file\n",
    "book.save('openpyxl.xlsx')"
   ]
  },
  {
   "cell_type": "code",
   "execution_count": null,
   "metadata": {},
   "outputs": [],
   "source": [
    "book = openpyxl.Workbook()\n",
    "book.template = True\n",
    "book.save('template.xltx')"
   ]
  },
  {
   "cell_type": "markdown",
   "metadata": {},
   "source": [
    "### Editing with OpenPyXL"
   ]
  },
  {
   "cell_type": "code",
   "execution_count": null,
   "metadata": {},
   "outputs": [],
   "source": [
    "# Read the stores.xlsx file, change a cell\n",
    "# and store it under a new location/name\n",
    "book = openpyxl.load_workbook('xl/stores.xlsx')\n",
    "book['2019']['A1'].value = 'modified'\n",
    "book.save('stores_edited.xlsx')"
   ]
  },
  {
   "cell_type": "code",
   "execution_count": null,
   "metadata": {},
   "outputs": [],
   "source": [
    "book = openpyxl.load_workbook('xl/macro.xlsm', keep_vba=True)\n",
    "book['Sheet1']['A1'].value = 'Click the button!'\n",
    "book.save('macro_openpyxl.xlsm')"
   ]
  },
  {
   "cell_type": "markdown",
   "metadata": {},
   "source": [
    "## XlsxWriter"
   ]
  },
  {
   "cell_type": "code",
   "execution_count": null,
   "metadata": {},
   "outputs": [],
   "source": [
    "import datetime as dt\n",
    "import xlsxwriter\n",
    "import excel\n",
    "\n",
    "# Instantiate a workbook\n",
    "book = xlsxwriter.Workbook('xlxswriter.xlsx')\n",
    "\n",
    "# Add a sheet and give it a name\n",
    "sheet = book.add_worksheet('Sheet1')\n",
    "\n",
    "# Writing individual cells using A1 notation\n",
    "# and cell indices (0-based)\n",
    "sheet.write('A1', 'Hello 1')\n",
    "sheet.write(1, 0, 'Hello 2')\n",
    "\n",
    "# Font formatting\n",
    "font_format = book.add_format({'font_color': '#FF0000',\n",
    "                               'bold': True})\n",
    "sheet.write('A3', 'Hello 3', font_format)\n",
    "\n",
    "# Number formatting\n",
    "number_format = book.add_format({'num_format': '0.00'})\n",
    "sheet.write('A4', 3.3333, number_format)\n",
    "\n",
    "# Date formatting\n",
    "date_format = book.add_format({'num_format': 'mm/dd/yy'})\n",
    "sheet.write('A5', dt.date(2016, 10, 13), date_format)\n",
    "\n",
    "# Formula\n",
    "sheet.write('A6', '=A4 * 2')\n",
    "\n",
    "# Image\n",
    "sheet.insert_image(0, 2, 'python.png')\n",
    "\n",
    "# 2-dimensional list\n",
    "data = [[None, 'old', 'new'],\n",
    "        ['one', 2, 3],\n",
    "        ['two', 5, 6]]\n",
    "excel.write(sheet, data, 'A10')\n",
    "\n",
    "# Chart\n",
    "chart = book.add_chart({'type': 'column'})\n",
    "chart.set_title({'name': 'Sales per Region'})\n",
    "chart.add_series({'name': '=Sheet1!B10',\n",
    "                  'categories': '=Sheet1!A11:A12',\n",
    "                  'values': '=Sheet1!B11:B12'})\n",
    "chart.add_series({'name': '=Sheet1!C10',\n",
    "                  'categories': '=Sheet1!A11:A12',\n",
    "                  'values': '=Sheet1!C11:C12'})\n",
    "chart.set_x_axis({'name': 'Regions'})\n",
    "chart.set_y_axis({'name': 'Sales'})\n",
    "sheet.insert_chart('A15', chart)\n",
    "\n",
    "# Closing the workbook creates the physical file\n",
    "book.close()"
   ]
  },
  {
   "cell_type": "code",
   "execution_count": null,
   "metadata": {},
   "outputs": [],
   "source": [
    "book = xlsxwriter.Workbook('macro_xlxswriter.xlsm')\n",
    "sheet = book.add_worksheet('Sheet1')\n",
    "sheet.write('A1', 'Click the button!')\n",
    "book.add_vba_project('xl/vbaProject.bin')\n",
    "sheet.insert_button('A3', {'macro':   'Hello', 'caption': 'Button 1',\n",
    "                           'width':   130, 'height':  35})\n",
    "book.close()"
   ]
  },
  {
   "cell_type": "markdown",
   "metadata": {},
   "source": [
    "## pyxlsb"
   ]
  },
  {
   "cell_type": "code",
   "execution_count": null,
   "metadata": {},
   "outputs": [],
   "source": [
    "import pyxlsb\n",
    "import excel\n",
    "\n",
    "# Loop through sheets. With pyxlsb, the workbook\n",
    "# and sheets can be used as context managers\n",
    "# book.sheets returns a list of sheet names, not objects\n",
    "with pyxlsb.open_workbook('xl/stores.xlsb') as book:\n",
    "    for sheet_name in book.sheets:\n",
    "        with book.get_sheet(sheet_name) as sheet:\n",
    "            dim = sheet.dimension\n",
    "            print(f'Sheet \"{sheet_name}\" has ' \n",
    "                  f'{dim.h} rows and {dim.w} cols')"
   ]
  },
  {
   "cell_type": "code",
   "execution_count": null,
   "metadata": {},
   "outputs": [],
   "source": [
    "# Read in the values of a range of cells by using our excel module\n",
    "# Instead of '2019', you could also use its index (1-based)\n",
    "with pyxlsb.open_workbook('xl/stores.xlsb') as book:\n",
    "    with book.get_sheet('2019') as sheet:\n",
    "        data = excel.read(sheet, 'D2', 'E3')\n",
    "data"
   ]
  },
  {
   "cell_type": "code",
   "execution_count": null,
   "metadata": {},
   "outputs": [],
   "source": [
    "from pyxlsb import convert_date\n",
    "convert_date(data[1][1])"
   ]
  },
  {
   "cell_type": "code",
   "execution_count": null,
   "metadata": {},
   "outputs": [],
   "source": [
    "df = pd.read_excel('xl/stores.xlsb', engine='pyxlsb')"
   ]
  },
  {
   "cell_type": "markdown",
   "metadata": {},
   "source": [
    "## xlrd, xlwt and xlutils"
   ]
  },
  {
   "cell_type": "markdown",
   "metadata": {},
   "source": [
    "### Reading with xlrd"
   ]
  },
  {
   "cell_type": "code",
   "execution_count": null,
   "metadata": {},
   "outputs": [],
   "source": [
    "import xlrd\n",
    "import xlwt\n",
    "from xlwt.Utils import cell_to_rowcol2\n",
    "import xlutils\n",
    "import excel"
   ]
  },
  {
   "cell_type": "code",
   "execution_count": null,
   "metadata": {},
   "outputs": [],
   "source": [
    "# Open the workbook to read cell values. The file is\n",
    "# automatically closed again after loading the data.\n",
    "book = xlrd.open_workbook('xl/stores.xls')"
   ]
  },
  {
   "cell_type": "code",
   "execution_count": null,
   "metadata": {},
   "outputs": [],
   "source": [
    "# Get a list with all sheet names\n",
    "book.sheet_names()"
   ]
  },
  {
   "cell_type": "code",
   "execution_count": null,
   "metadata": {},
   "outputs": [],
   "source": [
    "# Loop through the sheet objects\n",
    "for sheet in book.sheets():\n",
    "    print(sheet.name)"
   ]
  },
  {
   "cell_type": "code",
   "execution_count": null,
   "metadata": {},
   "outputs": [],
   "source": [
    "# Get a sheet object by name or index (0-based)\n",
    "sheet = book.sheet_by_index(0)\n",
    "sheet = book.sheet_by_name('2019')"
   ]
  },
  {
   "cell_type": "code",
   "execution_count": null,
   "metadata": {},
   "outputs": [],
   "source": [
    "# Dimensions\n",
    "sheet.nrows, sheet.ncols"
   ]
  },
  {
   "cell_type": "code",
   "execution_count": null,
   "metadata": {},
   "outputs": [],
   "source": [
    "# Read the value of a single cell\n",
    "# using 'A1' notation and using cell indices (0-based)\n",
    "# The * unpacks the returned tuple into individual arguments\n",
    "sheet.cell(*cell_to_rowcol2('B3')).value\n",
    "sheet.cell(2, 1).value"
   ]
  },
  {
   "cell_type": "code",
   "execution_count": null,
   "metadata": {},
   "outputs": [],
   "source": [
    "# Read in a range of cell values by using our excel module\n",
    "excel.read(sheet, 'B2', 'C3')"
   ]
  },
  {
   "cell_type": "markdown",
   "metadata": {},
   "source": [
    "### Writing with xlwt"
   ]
  },
  {
   "cell_type": "code",
   "execution_count": null,
   "metadata": {},
   "outputs": [],
   "source": [
    "import xlwt\n",
    "from xlwt.Utils import cell_to_rowcol2\n",
    "import datetime as dt\n",
    "import excel\n",
    "\n",
    "# Instantiate a workbook\n",
    "book = xlwt.Workbook()\n",
    "\n",
    "# Add a sheet and give it a name\n",
    "sheet = book.add_sheet('Sheet1')\n",
    "\n",
    "# Writing individual cells using A1 notation\n",
    "# and cell indices (0-based)\n",
    "# The * unpacks the returned tuple into individual arguments\n",
    "sheet.write(*cell_to_rowcol2('A1'), 'Hello 1')\n",
    "sheet.write(r=1, c=0, label='Hello 2')\n",
    "\n",
    "# Font formatting\n",
    "font_format = xlwt.easyxf('font: bold 1, color red')\n",
    "sheet.write(r=2, c=0, label='Hello 3', style=font_format)\n",
    "\n",
    "# Number formatting\n",
    "number_format = xlwt.easyxf(num_format_str='0.00')\n",
    "sheet.write(3, 0, 3.3333, number_format)\n",
    "\n",
    "# Date formatting\n",
    "date_format = xlwt.easyxf(num_format_str='MM/DD/YYYY')\n",
    "sheet.write(4, 0, dt.datetime(2012, 2, 3), date_format)\n",
    "\n",
    "# Formula\n",
    "sheet.write(5, 0, xlwt.Formula('A3'))\n",
    "\n",
    "# 2-dimensional list\n",
    "data = [[None, 'old', 'new'],\n",
    "        ['one', 2, 3],\n",
    "        ['two', 5, 6]]\n",
    "excel.write(sheet, data, 'A10')\n",
    "\n",
    "# Picture (only allows to add bmp format)\n",
    "sheet.insert_bitmap('python.bmp', 0, 2)\n",
    "\n",
    "# This writes the file to disk\n",
    "book.save('xlwt.xls')"
   ]
  },
  {
   "cell_type": "markdown",
   "metadata": {},
   "source": [
    "### Editing with xlutils"
   ]
  },
  {
   "cell_type": "code",
   "execution_count": null,
   "metadata": {},
   "outputs": [],
   "source": [
    "import xlutils.copy\n",
    "\n",
    "book = xlrd.open_workbook('xl/stores.xls', formatting_info=True)\n",
    "book = xlutils.copy.copy(book)\n",
    "book.get_sheet(0).write(0, 0, 'changed!')\n",
    "book.save('stores_edited.xls')"
   ]
  },
  {
   "cell_type": "markdown",
   "metadata": {},
   "source": [
    "# Advanced Topics\n",
    "## Working with Big Files"
   ]
  },
  {
   "cell_type": "markdown",
   "metadata": {},
   "source": [
    "### Writing with OpenPyXL"
   ]
  },
  {
   "cell_type": "code",
   "execution_count": null,
   "metadata": {},
   "outputs": [],
   "source": [
    "book = openpyxl.Workbook(write_only=True)\n",
    "sheet = book.create_sheet()\n",
    "for _ in range(1000):\n",
    "    sheet.append(list(range(200)))\n",
    "book.save('openpyxl_optimized.xlsx')"
   ]
  },
  {
   "cell_type": "markdown",
   "metadata": {},
   "source": [
    "### Writing with XlsxWriter"
   ]
  },
  {
   "cell_type": "code",
   "execution_count": null,
   "metadata": {},
   "outputs": [],
   "source": [
    "book = xlsxwriter.Workbook('xlsxwriter_optimized.xlsx',\n",
    "                           options={'constant_memory': True})\n",
    "sheet = book.add_worksheet()\n",
    "for r in range(1000):\n",
    "    sheet.write_row(r , 0, list(range(200)))\n",
    "book.close()"
   ]
  },
  {
   "cell_type": "markdown",
   "metadata": {},
   "source": [
    "### Reading with xlrd"
   ]
  },
  {
   "cell_type": "code",
   "execution_count": null,
   "metadata": {},
   "outputs": [],
   "source": [
    "with xlrd.open_workbook('xl/stores.xls', on_demand=True) as book:\n",
    "    sheet = book.sheet_by_index(0)  # only loads the first sheet"
   ]
  },
  {
   "cell_type": "code",
   "execution_count": null,
   "metadata": {},
   "outputs": [],
   "source": [
    "with xlrd.open_workbook('xl/stores.xls', on_demand=True) as book:\n",
    "    with pd.ExcelFile(book, engine='xlrd') as f:\n",
    "        df = pd.read_excel(f, sheet_name=0)"
   ]
  },
  {
   "cell_type": "markdown",
   "metadata": {},
   "source": [
    "### Reading with OpenPyXL"
   ]
  },
  {
   "cell_type": "code",
   "execution_count": null,
   "metadata": {},
   "outputs": [],
   "source": [
    "book = openpyxl.load_workbook('xl/big.xlsx',\n",
    "                              data_only=True, read_only=True,\n",
    "                              keep_links=False)\n",
    "sheet = book.worksheets[0]\n",
    "book.close()  # required with read_only=True"
   ]
  },
  {
   "cell_type": "markdown",
   "metadata": {},
   "source": [
    "### Reading in Parallel"
   ]
  },
  {
   "cell_type": "code",
   "execution_count": null,
   "metadata": {},
   "outputs": [],
   "source": [
    "%%time\n",
    "data = pd.read_excel('xl/big.xlsx', sheet_name=None, engine='openpyxl')"
   ]
  },
  {
   "cell_type": "code",
   "execution_count": null,
   "metadata": {},
   "outputs": [],
   "source": [
    "%%time\n",
    "import pandas_parallel\n",
    "data = pandas_parallel.read_excel('xl/big.xlsx', sheet_name=None)"
   ]
  },
  {
   "cell_type": "markdown",
   "metadata": {},
   "source": [
    "## Formatting DataFrames in Excel"
   ]
  },
  {
   "cell_type": "code",
   "execution_count": null,
   "metadata": {},
   "outputs": [],
   "source": [
    "with pd.ExcelFile('xl/stores.xlsx', engine='openpyxl') as xlfile:\n",
    "    df = pd.read_excel(xlfile, sheet_name='2020')\n",
    "\n",
    "    # Get the OpenPyXL workbook object\n",
    "    book = xlfile.book\n",
    "\n",
    "    # from here on, it's OpenPyXL code\n",
    "    sheet = book['2019']\n",
    "    value = sheet['B3'].value"
   ]
  },
  {
   "cell_type": "code",
   "execution_count": null,
   "metadata": {},
   "outputs": [],
   "source": [
    "with pd.ExcelWriter('pandas_and_openpyxl.xlsx',\n",
    "                    engine='openpyxl') as writer:\n",
    "    df = pd.DataFrame({'col1': [1, 2, 3, 4], 'col2': [5, 6, 7, 8]})\n",
    "    df.to_excel(writer, 'Sheet1', startrow=4, startcol=2)\n",
    "\n",
    "    # Get the OpenPyXL workbook and sheet objects\n",
    "    book = writer.book\n",
    "    sheet = writer.sheets['Sheet1']\n",
    "\n",
    "    # from here on, it's OpenPyXL code\n",
    "    sheet['A1'].value = 'Hello'"
   ]
  },
  {
   "cell_type": "code",
   "execution_count": null,
   "metadata": {},
   "outputs": [],
   "source": [
    "df = pd.DataFrame({'col1': [1, -2], 'col2': [-3, 4]},\n",
    "                   index=['row1', 'row2'])\n",
    "df.index.name = 'ix'\n",
    "df"
   ]
  },
  {
   "cell_type": "code",
   "execution_count": null,
   "metadata": {},
   "outputs": [],
   "source": [
    "# Formatting index/headers with OpenPyXL\n",
    "from openpyxl.styles import PatternFill\n",
    "with pd.ExcelWriter('formatting_openpyxl.xlsx',\n",
    "                    engine='openpyxl') as writer:\n",
    "    # Default formatting\n",
    "    df.to_excel(writer, startrow=0, startcol=0)\n",
    "    # Custom formatting    \n",
    "    startrow, startcol = 0, 5\n",
    "    df.to_excel(writer, header=False, index=False,\n",
    "                startrow=startrow + 1, startcol=startcol + 1)\n",
    "    sheet = writer.sheets['Sheet1']\n",
    "    style = PatternFill(fgColor=\"D9D9D9\", fill_type=\"solid\")\n",
    "    # header\n",
    "    for i, col in enumerate(df.columns):\n",
    "        sheet.cell(row=startrow + 1, column=i + startcol + 2,\n",
    "                   value=col).fill = style\n",
    "    # index\n",
    "    for i, row in enumerate([df.index.name if df.index.name else None]\n",
    "                            + list(df.index)):\n",
    "        sheet.cell(row=i + startrow + 1, column=startcol + 1,\n",
    "                   value=row).fill = style"
   ]
  },
  {
   "cell_type": "code",
   "execution_count": null,
   "metadata": {},
   "outputs": [],
   "source": [
    "# Formatting index/headers with XlsxWriter\n",
    "with pd.ExcelWriter('formatting_xlsxwriter.xlsx',\n",
    "                    engine='xlsxwriter') as writer:\n",
    "    # Default formatting\n",
    "    df.to_excel(writer, startrow=0, startcol=0)\n",
    "    # Custom formatting\n",
    "    startrow, startcol = 0, 5\n",
    "    df.to_excel(writer, header=False, index=False,\n",
    "                startrow=startrow + 1, startcol=startcol + 1)\n",
    "    book = writer.book\n",
    "    sheet = writer.sheets['Sheet1']\n",
    "    style = book.add_format({'bg_color': '#D9D9D9'})\n",
    "    # header\n",
    "    for i, col in enumerate(df.columns):\n",
    "        sheet.write(startrow, startcol + i + 1, col, style)\n",
    "    # index\n",
    "    for i, row in enumerate([df.index.name if df.index.name else None]\n",
    "                            + list(df.index)):\n",
    "        sheet.write(startrow + i, startcol, row, style)"
   ]
  },
  {
   "cell_type": "code",
   "execution_count": null,
   "metadata": {},
   "outputs": [],
   "source": [
    "# Formatting the data part with OpenPyXL\n",
    "from openpyxl.styles import Alignment\n",
    "with pd.ExcelWriter('data_format_openpyxl.xlsx',\n",
    "                    engine='openpyxl') as writer:\n",
    "    df.to_excel(writer)\n",
    "    book = writer.book\n",
    "    sheet = writer.sheets['Sheet1']\n",
    "    nrows, ncols = df.shape\n",
    "    for row in range(nrows):\n",
    "        for col in range(ncols):\n",
    "            cell = sheet.cell(row=row + 2,\n",
    "                       column=col + 2)\n",
    "            cell.number_format = '0.000'\n",
    "            cell.alignment = Alignment(horizontal='center')"
   ]
  },
  {
   "cell_type": "code",
   "execution_count": null,
   "metadata": {},
   "outputs": [],
   "source": [
    "# Formatting the data part with XlsxWriter\n",
    "with pd.ExcelWriter('data_format_xlsxwriter.xlsx',\n",
    "                    engine='xlsxwriter') as writer:\n",
    "    df.to_excel(writer)\n",
    "    book = writer.book\n",
    "    sheet = writer.sheets['Sheet1']\n",
    "    number_format = book.add_format({'num_format': '0.000',\n",
    "                                     'align': 'center'})\n",
    "    sheet.set_column(first_col=1, last_col=2,\n",
    "                     cell_format=number_format)"
   ]
  },
  {
   "cell_type": "code",
   "execution_count": null,
   "metadata": {},
   "outputs": [],
   "source": [
    "df.style.applymap(lambda x: 'number-format: 0.000;'\n",
    "                            'text-align: center')\\\n",
    "        .to_excel('styled.xlsx')"
   ]
  },
  {
   "cell_type": "code",
   "execution_count": null,
   "metadata": {},
   "outputs": [],
   "source": [
    "df = pd.DataFrame({'A': [dt.date(2020, 1, 1)],\n",
    "                   'B': [dt.datetime(2020, 1, 1, 10)]})\n",
    "with pd.ExcelWriter('date.xlsx',\n",
    "                    date_format='YYYY-MM-DD',\n",
    "                    datetime_format='YYYY-MM-DD HH:MM:SS') as writer:\n",
    "    df.to_excel(writer)"
   ]
  },
  {
   "cell_type": "code",
   "execution_count": null,
   "metadata": {},
   "outputs": [],
   "source": []
  }
 ],
 "metadata": {
  "kernelspec": {
   "display_name": "Python 3",
   "language": "python",
   "name": "python3"
  },
  "language_info": {
   "codemirror_mode": {
    "name": "ipython",
    "version": 3
   },
   "file_extension": ".py",
   "mimetype": "text/x-python",
   "name": "python",
   "nbconvert_exporter": "python",
   "pygments_lexer": "ipython3",
   "version": "3.7.4"
  }
 },
 "nbformat": 4,
 "nbformat_minor": 4
}
