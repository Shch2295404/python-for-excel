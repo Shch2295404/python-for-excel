{
 "cells": [
  {
   "cell_type": "code",
   "execution_count": 1,
   "metadata": {},
   "outputs": [
    {
     "data": {
      "text/plain": [
       "7"
      ]
     },
     "execution_count": 1,
     "metadata": {},
     "output_type": "execute_result"
    }
   ],
   "source": [
    "3 + 4"
   ]
  },
  {
   "cell_type": "markdown",
   "metadata": {},
   "source": [
    "# This is a first level title\n",
    "\n",
    "## This is a second level Title\n",
    "\n",
    "Normal text doesn't require any special treatment.\n",
    "\n",
    "Bullet lists:\n",
    "\n",
    "* An item\n",
    "* Another item\n",
    "\n",
    "Numbered lists:\n",
    "\n",
    "1. First item\n",
    "2. Second item\n",
    "\n",
    "You can also make your text *italic* or **bold** or `monospaced`.\n",
    "\n",
    "Equations can be included via LaTeX syntax: $ e ^{i\\pi} + 1 = 0 $\n",
    "\n",
    "Code that isn't supposed to be executed can be included like this:\n",
    "\n",
    "```python\n",
    "print(\"Hello World\")\n",
    "```"
   ]
  },
  {
   "cell_type": "markdown",
   "metadata": {},
   "source": [
    "![logo](python.png)"
   ]
  },
  {
   "cell_type": "code",
   "execution_count": null,
   "metadata": {},
   "outputs": [],
   "source": []
  }
 ],
 "metadata": {
  "kernelspec": {
   "display_name": "Python 3",
   "language": "python",
   "name": "python3"
  },
  "language_info": {
   "codemirror_mode": {
    "name": "ipython",
    "version": 3
   },
   "file_extension": ".py",
   "mimetype": "text/x-python",
   "name": "python",
   "nbconvert_exporter": "python",
   "pygments_lexer": "ipython3",
   "version": "3.7.4"
  }
 },
 "nbformat": 4,
 "nbformat_minor": 4
}
