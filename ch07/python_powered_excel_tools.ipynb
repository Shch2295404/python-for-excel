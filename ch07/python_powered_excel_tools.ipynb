{
 "cells": [
  {
   "cell_type": "code",
   "execution_count": null,
   "metadata": {},
   "outputs": [],
   "source": [
    "# A Python dictionary...\n",
    "mydict = {'name': 'Joe Doe',\n",
    "          'age': 23,\n",
    "          'married': False,\n",
    "          'children': None,\n",
    "          'hobbies': ['hiking', 'reading']}"
   ]
  },
  {
   "cell_type": "code",
   "execution_count": null,
   "metadata": {},
   "outputs": [],
   "source": [
    "# ...converted to a JSON string\n",
    "# by json.dumps. The \"indent\" parameter is\n",
    "# optional and prettyfies the printing.\n",
    "import json\n",
    "myjson = json.dumps(mydict, indent=4)\n",
    "print(myjson)"
   ]
  },
  {
   "cell_type": "code",
   "execution_count": null,
   "metadata": {},
   "outputs": [],
   "source": [
    "# Convert the JSON string back to a native Python data structure\n",
    "json.loads(myjson)"
   ]
  },
  {
   "cell_type": "code",
   "execution_count": null,
   "metadata": {},
   "outputs": [],
   "source": [
    "import requests\n",
    "response = requests.get(\"https://pypi.org/pypi/pandas/json\")\n",
    "response.status_code"
   ]
  },
  {
   "cell_type": "code",
   "execution_count": null,
   "metadata": {},
   "outputs": [],
   "source": [
    "# response.json()"
   ]
  },
  {
   "cell_type": "code",
   "execution_count": null,
   "metadata": {},
   "outputs": [],
   "source": [
    "releases = []\n",
    "for version, files in response.json()['releases'].items():\n",
    "    releases.append(f\"{version}: {files[0]['upload_time']}\")\n",
    "print(releases[:3])  # # print the first 3 elements of the list"
   ]
  },
  {
   "cell_type": "code",
   "execution_count": null,
   "metadata": {},
   "outputs": [],
   "source": [
    "import urllib.parse\n",
    "urllib.parse.quote_plus(\"pa$$word\")"
   ]
  },
  {
   "cell_type": "code",
   "execution_count": null,
   "metadata": {},
   "outputs": [],
   "source": [
    "# Our SQL query\n",
    "sql = \"SELECT * FROM packages\""
   ]
  },
  {
   "cell_type": "code",
   "execution_count": null,
   "metadata": {},
   "outputs": [],
   "source": [
    "# Option 1: Database driver (sqlite3 is part of the standard library)\n",
    "import sqlite3\n",
    "# Using the connection as context manager automatically commits\n",
    "# the transaction or rolls it back in case of an error\n",
    "with sqlite3.connect('packagetracker/packagetracker.db') as con:\n",
    "    cursor = con.cursor() # We need a cursor to run SQL queries\n",
    "    result = cursor.execute(sql).fetchall()  # Return all records\n",
    "result"
   ]
  },
  {
   "cell_type": "code",
   "execution_count": null,
   "metadata": {},
   "outputs": [],
   "source": [
    "# Option 2: SQLAlchemy\n",
    "from sqlalchemy import create_engine\n",
    "# create_engine expects the connection string of your database\n",
    "engine = create_engine('sqlite:///packagetracker/packagetracker.db')\n",
    "with engine.connect() as con:\n",
    "    result = con.execute(sql).fetchall()\n",
    "result"
   ]
  },
  {
   "cell_type": "code",
   "execution_count": null,
   "metadata": {},
   "outputs": [],
   "source": [
    "# Option 3: pandas\n",
    "# \"read_sql_table\" reads the full table\n",
    "# Pandas requires an SQLAlchemy engine that we reuse from\n",
    "# the previous example\n",
    "import pandas as pd\n",
    "df = pd.read_sql_table('packages', engine, index_col='package_id')\n",
    "df"
   ]
  },
  {
   "cell_type": "code",
   "execution_count": null,
   "metadata": {},
   "outputs": [],
   "source": [
    "# \"read_sql_query\" runs an SQL query\n",
    "pd.read_sql_query(sql, engine, index_col='package_id')"
   ]
  },
  {
   "cell_type": "code",
   "execution_count": null,
   "metadata": {},
   "outputs": [],
   "source": [
    "# \"to_sql\" writes DataFrames to tables\n",
    "# \"if_exists\" has to be either \"fail\", \"append\" or \"replace\"\n",
    "# and defines what happens if the table already exists\n",
    "df.to_sql('packages2', con=engine, if_exists='append')"
   ]
  },
  {
   "cell_type": "code",
   "execution_count": null,
   "metadata": {},
   "outputs": [],
   "source": [
    "# The previous command creates a new table and inserts the records\n",
    "# from the DataFrame df as we can verify by reading it back\n",
    "pd.read_sql_table('packages2', engine, index_col='package_id')"
   ]
  },
  {
   "cell_type": "code",
   "execution_count": null,
   "metadata": {},
   "outputs": [],
   "source": [
    "# Let's get rid of the table again by using the\n",
    "# \"drop table\" command and running it via SQLAlchemy\n",
    "with engine.connect() as con:\n",
    "    con.execute(\"DROP TABLE packages2\")"
   ]
  },
  {
   "cell_type": "code",
   "execution_count": null,
   "metadata": {},
   "outputs": [],
   "source": [
    "sql = \"\"\"\n",
    "SELECT v.uploaded_at, v.version_string\n",
    "FROM packages p\n",
    "INNER JOIN package_versions v ON p.package_id = v.package_id\n",
    "WHERE p.package_id = :package_id\n",
    "ORDER BY v.uploaded_at\n",
    "\"\"\""
   ]
  },
  {
   "cell_type": "code",
   "execution_count": null,
   "metadata": {},
   "outputs": [],
   "source": [
    "# Via SQLAlchemy\n",
    "from sqlalchemy.sql import text\n",
    "with engine.connect() as con:\n",
    "    result = con.execute(text(sql), package_id=1).fetchall()\n",
    "result[:3]  # print the first 3 records"
   ]
  },
  {
   "cell_type": "code",
   "execution_count": null,
   "metadata": {},
   "outputs": [],
   "source": [
    "# Via pandas\n",
    "pd.read_sql_query(text(sql), engine, parse_dates=['uploaded_at'],\n",
    "                  params={'package_id': 1},\n",
    "                  index_col=['uploaded_at']).head(3)"
   ]
  }
 ],
 "metadata": {
  "kernelspec": {
   "display_name": "Python 3",
   "language": "python",
   "name": "python3"
  },
  "language_info": {
   "codemirror_mode": {
    "name": "ipython",
    "version": 3
   },
   "file_extension": ".py",
   "mimetype": "text/x-python",
   "name": "python",
   "nbconvert_exporter": "python",
   "pygments_lexer": "ipython3",
   "version": "3.7.4"
  }
 },
 "nbformat": 4,
 "nbformat_minor": 4
}
